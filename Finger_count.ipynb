{
 "cells": [
  {
   "cell_type": "code",
   "execution_count": 1,
   "id": "a561ef4b",
   "metadata": {},
   "outputs": [
    {
     "name": "stdout",
     "output_type": "stream",
     "text": [
      "['1.jpg', '2.jpg', '3.jpg', '4.jpg', '5.jpg', '6.jpg']\n",
      "6\n"
     ]
    },
    {
     "ename": "ZeroDivisionError",
     "evalue": "float division by zero",
     "output_type": "error",
     "traceback": [
      "\u001b[1;31m---------------------------------------------------------------------------\u001b[0m",
      "\u001b[1;31mZeroDivisionError\u001b[0m                         Traceback (most recent call last)",
      "\u001b[1;32m<ipython-input-1-049dea14edd8>\u001b[0m in \u001b[0;36m<module>\u001b[1;34m\u001b[0m\n\u001b[0;32m     64\u001b[0m \u001b[1;33m\u001b[0m\u001b[0m\n\u001b[0;32m     65\u001b[0m     \u001b[0mcTime\u001b[0m \u001b[1;33m=\u001b[0m \u001b[0mtime\u001b[0m\u001b[1;33m.\u001b[0m\u001b[0mtime\u001b[0m\u001b[1;33m(\u001b[0m\u001b[1;33m)\u001b[0m \u001b[1;31m# Display the frame rate,current time\u001b[0m\u001b[1;33m\u001b[0m\u001b[1;33m\u001b[0m\u001b[0m\n\u001b[1;32m---> 66\u001b[1;33m     \u001b[0mfps\u001b[0m \u001b[1;33m=\u001b[0m \u001b[1;36m1.0\u001b[0m \u001b[1;33m/\u001b[0m \u001b[1;33m(\u001b[0m\u001b[0mcTime\u001b[0m \u001b[1;33m-\u001b[0m \u001b[0mpTime\u001b[0m\u001b[1;33m)\u001b[0m \u001b[1;31m# Previous time\u001b[0m\u001b[1;33m\u001b[0m\u001b[1;33m\u001b[0m\u001b[0m\n\u001b[0m\u001b[0;32m     67\u001b[0m     \u001b[0mpTime\u001b[0m \u001b[1;33m=\u001b[0m \u001b[0mcTime\u001b[0m\u001b[1;33m\u001b[0m\u001b[1;33m\u001b[0m\u001b[0m\n\u001b[0;32m     68\u001b[0m \u001b[1;33m\u001b[0m\u001b[0m\n",
      "\u001b[1;31mZeroDivisionError\u001b[0m: float division by zero"
     ]
    }
   ],
   "source": [
    "import cv2\n",
    "import time\n",
    "# The OS module in Python provides functions for creating and removing a directory (folder), fetching its contents, changing and identifying the current directory, etc\n",
    "import os  \n",
    "import HandTrackingModule as htm\n",
    "# from HandTrackingModule import * \n",
    "#from cvzone.HandTrackingModule import HandDetector\n",
    "import cv2\n",
    "\n",
    "\n",
    "wCam, hCam = 640, 480\n",
    "\n",
    "cap = cv2.VideoCapture(0)\n",
    "cap.set(3, wCam)\n",
    "cap.set(4, hCam)\n",
    "\n",
    "folderPath = \"FingerImages\"\n",
    "myList = os.listdir(folderPath)\n",
    "print(myList)\n",
    "overlayList = [] # List of img\n",
    "for imPath in myList:\n",
    "    image = cv2.imread(f'{folderPath}/{imPath}')\n",
    "    # print(f'{folderPath}/{imPath}')\n",
    "    overlayList.append(image) # To save the img\n",
    "\n",
    "print(len(overlayList))\n",
    "pTime = 0 # Previous time\n",
    "\n",
    "detector = htm.handDetector(detectionCon=0.75) # Detection confindence\n",
    "\n",
    "tipIds = [4, 8, 12, 16, 20] # 4 =thumb, 8 = index , 12 = middle finger, 16=ring finger, 20 = pinky fingers\n",
    "\n",
    "while True:\n",
    "    success, img = cap.read()\n",
    "    img = detector.findHands(img)\n",
    "    lmList = detector.findPosition(img, draw=False) # creating the landmark that we detect\n",
    "    # print(lmList)\n",
    "\n",
    "    if len(lmList) != 0:\n",
    "        fingers = []\n",
    "\n",
    "        # Thumb\n",
    "        if lmList[tipIds[0]][1] > lmList[tipIds[0] - 1][1]:\n",
    "            fingers.append(1)\n",
    "        else:\n",
    "            fingers.append(0)\n",
    "\n",
    "        # 4 Fingers\n",
    "        for id in range(1, 5):\n",
    "            if lmList[tipIds[id]][2] < lmList[tipIds[id] - 2][2]:\n",
    "                fingers.append(1)\n",
    "            else:\n",
    "                fingers.append(0)\n",
    "\n",
    "        # print(fingers)\n",
    "        totalFingers = fingers.count(1)\n",
    "        print(totalFingers)\n",
    "\n",
    "        #h, w, c = overlayList[totalFingers - 1].shape\n",
    "        #img[0:h, 0:w] = overlayList[totalFingers - 1]\n",
    "\n",
    "        cv2.rectangle(img, (20, 225), (170, 425), (0, 255, 0), cv2.FILLED)\n",
    "        cv2.putText(img, str(totalFingers), (45, 375), cv2.FONT_HERSHEY_PLAIN,\n",
    "                    10, (255, 0, 0), 25)\n",
    "\n",
    "    cTime = time.time() # Display the frame rate,current time\n",
    "    fps = 1 / (cTime - pTime) # Previous time\n",
    "    pTime = cTime\n",
    "\n",
    "    cv2.putText(img, f'FPS: {int(fps)}', (400, 70), cv2.FONT_HERSHEY_PLAIN,\n",
    "                3, (255, 0, 0), 3)\n",
    "\n",
    "    cv2.imshow(\"Image\", img)\n",
    "    k = cv2.waitKey(1) & 0xFF\n",
    "\n",
    "    if k == 27:\n",
    "        break\n",
    "\n",
    "    \n",
    "cap.release()\n",
    "cv2.destroyAllWindows()"
   ]
  },
  {
   "cell_type": "code",
   "execution_count": null,
   "id": "982693c8",
   "metadata": {},
   "outputs": [],
   "source": []
  }
 ],
 "metadata": {
  "kernelspec": {
   "display_name": "Python 3",
   "language": "python",
   "name": "python3"
  },
  "language_info": {
   "codemirror_mode": {
    "name": "ipython",
    "version": 3
   },
   "file_extension": ".py",
   "mimetype": "text/x-python",
   "name": "python",
   "nbconvert_exporter": "python",
   "pygments_lexer": "ipython3",
   "version": "3.8.8"
  }
 },
 "nbformat": 4,
 "nbformat_minor": 5
}
